{
  "nbformat": 4,
  "nbformat_minor": 0,
  "metadata": {
    "colab": {
      "name": "Clases_presenciales.ipynb",
      "provenance": [],
      "collapsed_sections": [],
      "include_colab_link": true
    },
    "kernelspec": {
      "name": "python3",
      "display_name": "Python 3"
    },
    "language_info": {
      "name": "python"
    },
    "widgets": {
      "application/vnd.jupyter.widget-state+json": {
        "0243cb1cd2b647779bd6ad199dc42802": {
          "model_module": "@jupyter-widgets/controls",
          "model_name": "HBoxModel",
          "model_module_version": "1.5.0",
          "state": {
            "_view_name": "HBoxView",
            "_dom_classes": [],
            "_model_name": "HBoxModel",
            "_view_module": "@jupyter-widgets/controls",
            "_model_module_version": "1.5.0",
            "_view_count": null,
            "_view_module_version": "1.5.0",
            "box_style": "",
            "layout": "IPY_MODEL_c6d689f33b5f4a7fa1498f171b4d2d48",
            "_model_module": "@jupyter-widgets/controls",
            "children": [
              "IPY_MODEL_cba00aca1bba41dca9f493254aff37c5",
              "IPY_MODEL_6baf33393cae49ca9f2c9d0bc837940a",
              "IPY_MODEL_6a04cf7fb7e441469198080dc57b475c"
            ]
          }
        },
        "c6d689f33b5f4a7fa1498f171b4d2d48": {
          "model_module": "@jupyter-widgets/base",
          "model_name": "LayoutModel",
          "model_module_version": "1.2.0",
          "state": {
            "_view_name": "LayoutView",
            "grid_template_rows": null,
            "right": null,
            "justify_content": null,
            "_view_module": "@jupyter-widgets/base",
            "overflow": null,
            "_model_module_version": "1.2.0",
            "_view_count": null,
            "flex_flow": null,
            "width": null,
            "min_width": null,
            "border": null,
            "align_items": null,
            "bottom": null,
            "_model_module": "@jupyter-widgets/base",
            "top": null,
            "grid_column": null,
            "overflow_y": null,
            "overflow_x": null,
            "grid_auto_flow": null,
            "grid_area": null,
            "grid_template_columns": null,
            "flex": null,
            "_model_name": "LayoutModel",
            "justify_items": null,
            "grid_row": null,
            "max_height": null,
            "align_content": null,
            "visibility": null,
            "align_self": null,
            "height": null,
            "min_height": null,
            "padding": null,
            "grid_auto_rows": null,
            "grid_gap": null,
            "max_width": null,
            "order": null,
            "_view_module_version": "1.2.0",
            "grid_template_areas": null,
            "object_position": null,
            "object_fit": null,
            "grid_auto_columns": null,
            "margin": null,
            "display": null,
            "left": null
          }
        },
        "cba00aca1bba41dca9f493254aff37c5": {
          "model_module": "@jupyter-widgets/controls",
          "model_name": "HTMLModel",
          "model_module_version": "1.5.0",
          "state": {
            "_view_name": "HTMLView",
            "style": "IPY_MODEL_5151535a3d334688aa479e0c79a6166f",
            "_dom_classes": [],
            "description": "",
            "_model_name": "HTMLModel",
            "placeholder": "​",
            "_view_module": "@jupyter-widgets/controls",
            "_model_module_version": "1.5.0",
            "value": "Dl Completed...: 100%",
            "_view_count": null,
            "_view_module_version": "1.5.0",
            "description_tooltip": null,
            "_model_module": "@jupyter-widgets/controls",
            "layout": "IPY_MODEL_ed6922a7e3f14f44a9518ff463362117"
          }
        },
        "6baf33393cae49ca9f2c9d0bc837940a": {
          "model_module": "@jupyter-widgets/controls",
          "model_name": "FloatProgressModel",
          "model_module_version": "1.5.0",
          "state": {
            "_view_name": "ProgressView",
            "style": "IPY_MODEL_45c7705d1008426484061070ebe6b905",
            "_dom_classes": [],
            "description": "",
            "_model_name": "FloatProgressModel",
            "bar_style": "success",
            "max": 4,
            "_view_module": "@jupyter-widgets/controls",
            "_model_module_version": "1.5.0",
            "value": 4,
            "_view_count": null,
            "_view_module_version": "1.5.0",
            "orientation": "horizontal",
            "min": 0,
            "description_tooltip": null,
            "_model_module": "@jupyter-widgets/controls",
            "layout": "IPY_MODEL_004dad78171b4e1383c8af9864d24927"
          }
        },
        "6a04cf7fb7e441469198080dc57b475c": {
          "model_module": "@jupyter-widgets/controls",
          "model_name": "HTMLModel",
          "model_module_version": "1.5.0",
          "state": {
            "_view_name": "HTMLView",
            "style": "IPY_MODEL_3841c3c2c0ce459389d29fa96222d24f",
            "_dom_classes": [],
            "description": "",
            "_model_name": "HTMLModel",
            "placeholder": "​",
            "_view_module": "@jupyter-widgets/controls",
            "_model_module_version": "1.5.0",
            "value": " 4/4 [00:00&lt;00:00,  8.06 file/s]",
            "_view_count": null,
            "_view_module_version": "1.5.0",
            "description_tooltip": null,
            "_model_module": "@jupyter-widgets/controls",
            "layout": "IPY_MODEL_8ce87dd891e94b498c5656bd68315631"
          }
        },
        "5151535a3d334688aa479e0c79a6166f": {
          "model_module": "@jupyter-widgets/controls",
          "model_name": "DescriptionStyleModel",
          "model_module_version": "1.5.0",
          "state": {
            "_view_name": "StyleView",
            "_model_name": "DescriptionStyleModel",
            "description_width": "",
            "_view_module": "@jupyter-widgets/base",
            "_model_module_version": "1.5.0",
            "_view_count": null,
            "_view_module_version": "1.2.0",
            "_model_module": "@jupyter-widgets/controls"
          }
        },
        "ed6922a7e3f14f44a9518ff463362117": {
          "model_module": "@jupyter-widgets/base",
          "model_name": "LayoutModel",
          "model_module_version": "1.2.0",
          "state": {
            "_view_name": "LayoutView",
            "grid_template_rows": null,
            "right": null,
            "justify_content": null,
            "_view_module": "@jupyter-widgets/base",
            "overflow": null,
            "_model_module_version": "1.2.0",
            "_view_count": null,
            "flex_flow": null,
            "width": null,
            "min_width": null,
            "border": null,
            "align_items": null,
            "bottom": null,
            "_model_module": "@jupyter-widgets/base",
            "top": null,
            "grid_column": null,
            "overflow_y": null,
            "overflow_x": null,
            "grid_auto_flow": null,
            "grid_area": null,
            "grid_template_columns": null,
            "flex": null,
            "_model_name": "LayoutModel",
            "justify_items": null,
            "grid_row": null,
            "max_height": null,
            "align_content": null,
            "visibility": null,
            "align_self": null,
            "height": null,
            "min_height": null,
            "padding": null,
            "grid_auto_rows": null,
            "grid_gap": null,
            "max_width": null,
            "order": null,
            "_view_module_version": "1.2.0",
            "grid_template_areas": null,
            "object_position": null,
            "object_fit": null,
            "grid_auto_columns": null,
            "margin": null,
            "display": null,
            "left": null
          }
        },
        "45c7705d1008426484061070ebe6b905": {
          "model_module": "@jupyter-widgets/controls",
          "model_name": "ProgressStyleModel",
          "model_module_version": "1.5.0",
          "state": {
            "_view_name": "StyleView",
            "_model_name": "ProgressStyleModel",
            "description_width": "",
            "_view_module": "@jupyter-widgets/base",
            "_model_module_version": "1.5.0",
            "_view_count": null,
            "_view_module_version": "1.2.0",
            "bar_color": null,
            "_model_module": "@jupyter-widgets/controls"
          }
        },
        "004dad78171b4e1383c8af9864d24927": {
          "model_module": "@jupyter-widgets/base",
          "model_name": "LayoutModel",
          "model_module_version": "1.2.0",
          "state": {
            "_view_name": "LayoutView",
            "grid_template_rows": null,
            "right": null,
            "justify_content": null,
            "_view_module": "@jupyter-widgets/base",
            "overflow": null,
            "_model_module_version": "1.2.0",
            "_view_count": null,
            "flex_flow": null,
            "width": null,
            "min_width": null,
            "border": null,
            "align_items": null,
            "bottom": null,
            "_model_module": "@jupyter-widgets/base",
            "top": null,
            "grid_column": null,
            "overflow_y": null,
            "overflow_x": null,
            "grid_auto_flow": null,
            "grid_area": null,
            "grid_template_columns": null,
            "flex": null,
            "_model_name": "LayoutModel",
            "justify_items": null,
            "grid_row": null,
            "max_height": null,
            "align_content": null,
            "visibility": null,
            "align_self": null,
            "height": null,
            "min_height": null,
            "padding": null,
            "grid_auto_rows": null,
            "grid_gap": null,
            "max_width": null,
            "order": null,
            "_view_module_version": "1.2.0",
            "grid_template_areas": null,
            "object_position": null,
            "object_fit": null,
            "grid_auto_columns": null,
            "margin": null,
            "display": null,
            "left": null
          }
        },
        "3841c3c2c0ce459389d29fa96222d24f": {
          "model_module": "@jupyter-widgets/controls",
          "model_name": "DescriptionStyleModel",
          "model_module_version": "1.5.0",
          "state": {
            "_view_name": "StyleView",
            "_model_name": "DescriptionStyleModel",
            "description_width": "",
            "_view_module": "@jupyter-widgets/base",
            "_model_module_version": "1.5.0",
            "_view_count": null,
            "_view_module_version": "1.2.0",
            "_model_module": "@jupyter-widgets/controls"
          }
        },
        "8ce87dd891e94b498c5656bd68315631": {
          "model_module": "@jupyter-widgets/base",
          "model_name": "LayoutModel",
          "model_module_version": "1.2.0",
          "state": {
            "_view_name": "LayoutView",
            "grid_template_rows": null,
            "right": null,
            "justify_content": null,
            "_view_module": "@jupyter-widgets/base",
            "overflow": null,
            "_model_module_version": "1.2.0",
            "_view_count": null,
            "flex_flow": null,
            "width": null,
            "min_width": null,
            "border": null,
            "align_items": null,
            "bottom": null,
            "_model_module": "@jupyter-widgets/base",
            "top": null,
            "grid_column": null,
            "overflow_y": null,
            "overflow_x": null,
            "grid_auto_flow": null,
            "grid_area": null,
            "grid_template_columns": null,
            "flex": null,
            "_model_name": "LayoutModel",
            "justify_items": null,
            "grid_row": null,
            "max_height": null,
            "align_content": null,
            "visibility": null,
            "align_self": null,
            "height": null,
            "min_height": null,
            "padding": null,
            "grid_auto_rows": null,
            "grid_gap": null,
            "max_width": null,
            "order": null,
            "_view_module_version": "1.2.0",
            "grid_template_areas": null,
            "object_position": null,
            "object_fit": null,
            "grid_auto_columns": null,
            "margin": null,
            "display": null,
            "left": null
          }
        }
      }
    }
  },
  "cells": [
    {
      "cell_type": "markdown",
      "metadata": {
        "id": "view-in-github",
        "colab_type": "text"
      },
      "source": [
        "<a href=\"https://colab.research.google.com/github/USIS051620/Programacion-Computacional-III/blob/main/fundamentos_de_python.ipynb\" target=\"_parent\"><img src=\"https://colab.research.google.com/assets/colab-badge.svg\" alt=\"Open In Colab\"/></a>"
      ]
    },
    {
      "cell_type": "code",
      "metadata": {
        "colab": {
          "base_uri": "https://localhost:8080/"
        },
        "id": "7rzRTP0Z6KeG",
        "outputId": "08cadd1a-22b4-4af2-c128-07011cd3113b"
      },
      "source": [
        "print(\"Hola mundo\", \"Bienvenidos a Progra III con Python\", \"Hola chicos, que tal...\")"
      ],
      "execution_count": null,
      "outputs": [
        {
          "output_type": "stream",
          "text": [
            "Hola mundo Bienvenidos a Progra III con Python Hola chicos, que tal...\n"
          ],
          "name": "stdout"
        }
      ]
    },
    {
      "cell_type": "code",
      "metadata": {
        "colab": {
          "base_uri": "https://localhost:8080/"
        },
        "id": "yq3BQrLi_r5_",
        "outputId": "379c53fd-fdb8-4446-c0a6-db4b3d7328c8"
      },
      "source": [
        "saludo = \"hola\"\n",
        "print(saludo + \" Mundo\")\n",
        "print( saludo[1] )"
      ],
      "execution_count": null,
      "outputs": [
        {
          "output_type": "stream",
          "text": [
            "hola Mundo\n",
            "o\n"
          ],
          "name": "stdout"
        }
      ]
    },
    {
      "cell_type": "code",
      "metadata": {
        "colab": {
          "base_uri": "https://localhost:8080/"
        },
        "id": "3TwOVC3KATsg",
        "outputId": "8be15b03-42eb-47f2-e9b6-aa871eb53c3e"
      },
      "source": [
        "nombre = input(\"Como te llamas: \")\n",
        "print(\"Hola \"+nombre, \"Tu letra inicial es: \", nombre[0], \"Tu nombre tiene: \", nombre.__len__(), \" caracteres\" )"
      ],
      "execution_count": null,
      "outputs": [
        {
          "output_type": "stream",
          "text": [
            "Como te llamas: Luis\n",
            "Hola Luis Tu letra inicial es:  L Tu nombre tiene:  4  caracteres\n"
          ],
          "name": "stdout"
        }
      ]
    },
    {
      "cell_type": "code",
      "metadata": {
        "colab": {
          "base_uri": "https://localhost:8080/"
        },
        "id": "TUSteExIA-13",
        "outputId": "4858bddf-aa3b-4f58-fa27-7d303e70e4d1"
      },
      "source": [
        "num1 = 5\n",
        "num2 = 5.5\n",
        "resp = num1 + num2\n",
        "print(\"La suma es: \", resp)"
      ],
      "execution_count": null,
      "outputs": [
        {
          "output_type": "stream",
          "text": [
            "La suma es:  10.5\n"
          ],
          "name": "stdout"
        }
      ]
    },
    {
      "cell_type": "code",
      "metadata": {
        "colab": {
          "base_uri": "https://localhost:8080/"
        },
        "id": "0WARfPLGBJuO",
        "outputId": "1691b231-1add-4116-89e7-fe1bf96c79d1"
      },
      "source": [
        "num1 = input(\"Num1: \")\n",
        "num2 = input(\"Num2: \")\n",
        "resp = float(num1) + float(num2) # \"5.5\"-> 5.5\n",
        "print(\"La suma es: \", resp)"
      ],
      "execution_count": null,
      "outputs": [
        {
          "output_type": "stream",
          "text": [
            "Num1: 5\n",
            "Num2: 5.5\n",
            "La suma es:  10.5\n"
          ],
          "name": "stdout"
        }
      ]
    },
    {
      "cell_type": "code",
      "metadata": {
        "colab": {
          "base_uri": "https://localhost:8080/"
        },
        "id": "6tvB4eeOB0oF",
        "outputId": "29e37cc9-998c-46f3-a179-00b4c01ad70b"
      },
      "source": [
        "num1 = input(\"Num1: \")\n",
        "num1 = float(num1)\n",
        "num2 = float(input(\"Num2: \"))\n",
        "resp = num1 + num2 # \"5.5\"-> 5.5\n",
        "print(\"La suma es: \", resp, num1 + num2)"
      ],
      "execution_count": null,
      "outputs": [
        {
          "output_type": "stream",
          "text": [
            "Num1: 5.4\n",
            "Num2: 6.8\n",
            "La suma es:  12.2 12.2\n"
          ],
          "name": "stdout"
        }
      ]
    },
    {
      "cell_type": "code",
      "metadata": {
        "colab": {
          "base_uri": "https://localhost:8080/"
        },
        "id": "8gDiWH0QClfu",
        "outputId": "471c16dc-cb4b-4205-b767-3536a5a1beff"
      },
      "source": [
        "print(\"Hola nuevamente\", nombre)"
      ],
      "execution_count": null,
      "outputs": [
        {
          "output_type": "stream",
          "text": [
            "Hola nuevamente Luis\n"
          ],
          "name": "stdout"
        }
      ]
    },
    {
      "cell_type": "code",
      "metadata": {
        "colab": {
          "base_uri": "https://localhost:8080/"
        },
        "id": "PYZvkp-YGN9O",
        "outputId": "98e6b0bb-f8d7-4bab-9d03-8ac4eb0c3b5d"
      },
      "source": [
        "gustaPython = True\n",
        "print(\"hola \", nombre, \" te gusta python \", gustaPython)"
      ],
      "execution_count": null,
      "outputs": [
        {
          "output_type": "stream",
          "text": [
            "hola  Luis  te gusta python  True\n"
          ],
          "name": "stdout"
        }
      ]
    },
    {
      "cell_type": "code",
      "metadata": {
        "colab": {
          "base_uri": "https://localhost:8080/"
        },
        "id": "26z8jE4AGp5x",
        "outputId": "420e6859-659d-42ee-e409-3f04b9718fc0"
      },
      "source": [
        "print( \"nombre: \", type(nombre), \"num1: \",type(num1), \"num2: \",type(num2), \"resp: \",type(resp), \"gustaPython: \", type(gustaPython), \"1\", type(1))"
      ],
      "execution_count": null,
      "outputs": [
        {
          "output_type": "stream",
          "text": [
            "nombre:  <class 'str'> num1:  <class 'float'> num2:  <class 'float'> resp:  <class 'float'> gustaPython:  <class 'bool'> 1 <class 'int'>\n"
          ],
          "name": "stdout"
        }
      ]
    },
    {
      "cell_type": "code",
      "metadata": {
        "colab": {
          "base_uri": "https://localhost:8080/"
        },
        "id": "Ao9X3GBZHa4S",
        "outputId": "a88a8972-2252-4b01-a8d6-d2e480e2407f"
      },
      "source": [
        "print(\"resp: \"+ str(resp) )"
      ],
      "execution_count": null,
      "outputs": [
        {
          "output_type": "stream",
          "text": [
            "resp: 12.2\n"
          ],
          "name": "stdout"
        }
      ]
    },
    {
      "cell_type": "code",
      "metadata": {
        "colab": {
          "base_uri": "https://localhost:8080/"
        },
        "id": "-nvx42xkI-Sq",
        "outputId": "506381da-1313-4fe9-e7a5-f764145987d0"
      },
      "source": [
        "def suma(num1, num2):\n",
        "  resp = num1 + num2\n",
        "  return resp\n",
        "num1 = float(input(\"Num1: \"))\n",
        "num2 = float(input(\"Nnum2: \"))\n",
        "resp = suma(num1,num2)\n",
        "print(resp)"
      ],
      "execution_count": null,
      "outputs": [
        {
          "output_type": "stream",
          "text": [
            "Num1: 8.4\n",
            "Nnum2: 9.8\n",
            "18.200000000000003\n"
          ],
          "name": "stdout"
        }
      ]
    },
    {
      "cell_type": "code",
      "metadata": {
        "colab": {
          "base_uri": "https://localhost:8080/"
        },
        "id": "JlAIlyTk72Kx",
        "outputId": "d311ed89-cae8-4a7b-d621-7a80b18b8b5c"
      },
      "source": [
        "num1 = int(input(\"Num1: \"))\n",
        "num2 = int(input(\"Num2: \"))\n",
        "print(\"Los numero\", str(num1), \",\", str(num2), \" son iguales: \", str(num1==num2) )"
      ],
      "execution_count": null,
      "outputs": [
        {
          "output_type": "stream",
          "text": [
            "Num1: 4\n",
            "Num2: 4\n",
            "Los numero 4 , 4  son iguales:  True\n"
          ],
          "name": "stdout"
        }
      ]
    },
    {
      "cell_type": "code",
      "metadata": {
        "colab": {
          "base_uri": "https://localhost:8080/"
        },
        "id": "06KQVMOP-75d",
        "outputId": "ab070dba-6ea8-4ae7-b436-d4773a71316b"
      },
      "source": [
        "def convertirFC(f):\n",
        "  c = (f-32)*5/9\n",
        "  return c\n",
        "\n",
        "f = float(input(\"F: \"))\n",
        "print(\"F: \", str(f), \" a celsius: \", str( convertirFC(f) ))"
      ],
      "execution_count": null,
      "outputs": [
        {
          "output_type": "stream",
          "text": [
            "F: 98\n",
            "F:  98.0  a celsius:  36.666666666666664\n"
          ],
          "name": "stdout"
        }
      ]
    },
    {
      "cell_type": "code",
      "metadata": {
        "colab": {
          "base_uri": "https://localhost:8080/"
        },
        "id": "ZYVmFupFBHEn",
        "outputId": "02ce9f5b-d73d-4fd1-d48f-a5fb1afe9b17"
      },
      "source": [
        "numHrs = int(input(\"Num. de Hrs trabajadas: \"))\n",
        "valorHr = float(input(\"Valor por hr: \"))\n",
        "\n",
        "sueldo = numHrs*valorHr*30\n",
        "print(\"Sueldo: \", sueldo)"
      ],
      "execution_count": null,
      "outputs": [
        {
          "output_type": "stream",
          "text": [
            "Num. de Hrs trabajadas: 10\n",
            "Valor por hr: 4.5\n",
            "Sueldo:  1350.0\n"
          ],
          "name": "stdout"
        }
      ]
    },
    {
      "cell_type": "code",
      "metadata": {
        "colab": {
          "base_uri": "https://localhost:8080/"
        },
        "id": "XE6stugPCGEK",
        "outputId": "af93087c-ccad-45a5-c2dd-2e3706ebda06"
      },
      "source": [
        "def calcularSueldo(numHrs, valorHr):\n",
        "  hrsExtras = 0\n",
        "  if( numHrs>8 ):\n",
        "    hrsExtras = numHrs-8\n",
        "  sueldo = (8*valorHr + hrsExtras*valorHr*2)*30\n",
        "  return sueldo\n",
        "\n",
        "numHrs = int(input(\"Num. hrs trabajadas: \"))\n",
        "valorHr = float(input(\"Valor x hr: \"))\n",
        "print(\"Sueldo: \", str(calcularSueldo(numHrs, valorHr)))"
      ],
      "execution_count": null,
      "outputs": [
        {
          "output_type": "stream",
          "text": [
            "Num. hrs trabajadas: 10\n",
            "Valor x hr: 4.5\n",
            "Sueldo:  1620.0\n"
          ],
          "name": "stdout"
        }
      ]
    },
    {
      "cell_type": "code",
      "metadata": {
        "colab": {
          "base_uri": "https://localhost:8080/"
        },
        "id": "Lz3yN33_E5oR",
        "outputId": "c3e5a49c-c340-45ca-cef4-83a83a88e640"
      },
      "source": [
        "prioridad = 7- 5*2 - 4/4 *2 #5*2=10   4/4=1   1*2=2   7-10-2= -5\n",
        "print(str(prioridad))"
      ],
      "execution_count": null,
      "outputs": [
        {
          "output_type": "stream",
          "text": [
            "-5.0\n"
          ],
          "name": "stdout"
        }
      ]
    },
    {
      "cell_type": "markdown",
      "metadata": {
        "id": "mnvZb9fxNfEr"
      },
      "source": [
        "Ejercicio de clase: 1. **Convertir** de Grados Celsius a Fahrenheit."
      ]
    },
    {
      "cell_type": "code",
      "metadata": {
        "id": "WS53NEXGNsCX"
      },
      "source": [
        ""
      ],
      "execution_count": null,
      "outputs": []
    },
    {
      "cell_type": "markdown",
      "metadata": {
        "id": "95E_92CmNzCL"
      },
      "source": [
        "Ejercicios de Tarea: \n",
        "1. Convertir de Celsius de Fahrenheit\n",
        "2. Calcular la edad de una persona.\n",
        "3. Obtener la nota final de ciclo\n",
        "\n",
        "Tarea: \n",
        "1. Convertir de Celsius de Fahrenheit usando lambda\n",
        "2. Calcular la edad de una persona. usando lambda\n",
        "3. Obtener la nota final de ciclo usando lambda y build-in(map, filter, reduce)"
      ]
    },
    {
      "cell_type": "code",
      "metadata": {
        "id": "3sghW7eB9efF",
        "colab": {
          "base_uri": "https://localhost:8080/"
        },
        "outputId": "f134830b-7bd2-479c-af38-6a73abbc489a"
      },
      "source": [
        "suma = lambda num1,num2: num1+num2\n",
        "num1 = float(input(\"Num1: \"))\n",
        "num2 = float(input(\"Num2: \"))\n",
        "print(\"La suma es: \", suma(num1,num2))"
      ],
      "execution_count": null,
      "outputs": [
        {
          "output_type": "stream",
          "text": [
            "Num1: 5\n",
            "Num2: 7\n",
            "La suma es:  12.0\n"
          ],
          "name": "stdout"
        }
      ]
    },
    {
      "cell_type": "code",
      "metadata": {
        "id": "KOUBB1Ac-uC-",
        "colab": {
          "base_uri": "https://localhost:8080/"
        },
        "outputId": "73965dd5-57b3-4ee4-9530-5b60cfa8b48e"
      },
      "source": [
        "conversion = lambda f:(f-32)*5/9\n",
        "f = float(input(\"Fahrenheit: \"))\n",
        "print(\"Grados F: \", f, \" a C: \", conversion(f))"
      ],
      "execution_count": null,
      "outputs": [
        {
          "output_type": "stream",
          "text": [
            "Fahrenheit: 98\n",
            "Grados F:  98.0  a C:  36.666666666666664\n"
          ],
          "name": "stdout"
        }
      ]
    },
    {
      "cell_type": "code",
      "metadata": {
        "id": "6nsniU_ZCuk-",
        "colab": {
          "base_uri": "https://localhost:8080/"
        },
        "outputId": "25d4bdf1-ca6b-4f04-be1c-b5d29e5286e3"
      },
      "source": [
        "cuadrado = lambda n:n**2\n",
        "n = int(input(\"N: \"))\n",
        "print(\"N: \", n, \" al cuadrado es: \", cuadrado(n))"
      ],
      "execution_count": null,
      "outputs": [
        {
          "output_type": "stream",
          "text": [
            "N: 3\n",
            "N:  3  al cuadrado es:  9\n"
          ],
          "name": "stdout"
        }
      ]
    },
    {
      "cell_type": "code",
      "metadata": {
        "id": "H5qbXQwgDUfS",
        "colab": {
          "base_uri": "https://localhost:8080/"
        },
        "outputId": "05beabe8-e5a3-484e-98c2-93fc600de72b"
      },
      "source": [
        "cubo = lambda n:n**3\n",
        "n = int(input(\"n: \"))\n",
        "print(\"N: \", n, \" al cubo es: \", cubo(n))"
      ],
      "execution_count": null,
      "outputs": [
        {
          "output_type": "stream",
          "text": [
            "n: 3\n",
            "N:  3  al cubo es:  27\n"
          ],
          "name": "stdout"
        }
      ]
    },
    {
      "cell_type": "code",
      "metadata": {
        "id": "BCIK0LyXDotB",
        "colab": {
          "base_uri": "https://localhost:8080/"
        },
        "outputId": "55ed7d03-eb40-41c1-984a-b863587eccbf"
      },
      "source": [
        "exp = lambda n,e:n**e\n",
        "n = int(input(\"N: \"))\n",
        "e = int(input(\"Exponente: \"))\n",
        "print(n, \" elevado al exp : \", e, \" es: \", exp(n,e))"
      ],
      "execution_count": null,
      "outputs": [
        {
          "output_type": "stream",
          "text": [
            "N: 3\n",
            "Exponente: 4\n",
            "3  elevado al exp :  4  es:  81\n"
          ],
          "name": "stdout"
        }
      ]
    },
    {
      "cell_type": "code",
      "metadata": {
        "id": "3f17iY2gFHn4",
        "colab": {
          "base_uri": "https://localhost:8080/"
        },
        "outputId": "d3c330a7-f368-488a-f4d3-9420a0b9b44a"
      },
      "source": [
        "lista = [1,2,3,4]\n",
        "resp = list(map(lambda n:n*2, lista))\n",
        "print(resp)\n"
      ],
      "execution_count": null,
      "outputs": [
        {
          "output_type": "stream",
          "text": [
            "[2, 4, 6, 8]\n"
          ],
          "name": "stdout"
        }
      ]
    },
    {
      "cell_type": "code",
      "metadata": {
        "id": "sW-Vx1w5FtOM",
        "colab": {
          "base_uri": "https://localhost:8080/"
        },
        "outputId": "3f993722-4996-464c-ff45-16f53a09a106"
      },
      "source": [
        "gf_depto = [85,58,105]\n",
        "c_depto = list(map(conversion, gf_depto))\n",
        "print(\"Los grados F: \", gf_depto, \" en celsius es: \", c_depto)"
      ],
      "execution_count": null,
      "outputs": [
        {
          "output_type": "stream",
          "text": [
            "Los grados F:  [85, 58, 105]  en celsius es:  [29.444444444444443, 14.444444444444445, 40.55555555555556]\n"
          ],
          "name": "stdout"
        }
      ]
    },
    {
      "cell_type": "code",
      "metadata": {
        "id": "ky6wGH-lGpuR",
        "colab": {
          "base_uri": "https://localhost:8080/"
        },
        "outputId": "928023d6-1e6f-4243-da6b-0c93913fc6ef"
      },
      "source": [
        "resp = list(map(cuadrado, lista))\n",
        "print(\"La lista \", lista, \" el cuadrado es: \", resp)"
      ],
      "execution_count": null,
      "outputs": [
        {
          "output_type": "stream",
          "text": [
            "La lista  [1, 2, 3]  el cuadrado es:  [1, 4, 9]\n"
          ],
          "name": "stdout"
        }
      ]
    },
    {
      "cell_type": "code",
      "metadata": {
        "id": "-1-UZFs_G8z1",
        "colab": {
          "base_uri": "https://localhost:8080/"
        },
        "outputId": "f29ebcb0-2d36-4be4-b915-a26c560ba63a"
      },
      "source": [
        "resp = list(map(cubo, lista))\n",
        "print(\"La lista \", lista, \" el cubo es: \", resp)"
      ],
      "execution_count": null,
      "outputs": [
        {
          "output_type": "stream",
          "text": [
            "La lista  [1, 2, 3]  el cubo es:  [1, 8, 27]\n"
          ],
          "name": "stdout"
        }
      ]
    },
    {
      "cell_type": "code",
      "metadata": {
        "id": "zwOFlJ78Hlrs",
        "colab": {
          "base_uri": "https://localhost:8080/"
        },
        "outputId": "82699d0e-f73b-460d-acec-fccc7d10cb44"
      },
      "source": [
        "resp = list(filter(lambda n:n>2, lista))\n",
        "print(\"Los numeros <= 2 de la lista \", lista, \" son: \", resp)"
      ],
      "execution_count": null,
      "outputs": [
        {
          "output_type": "stream",
          "text": [
            "Los numeros <= 2 de la lista  [1, 2, 3]  son:  [3]\n"
          ],
          "name": "stdout"
        }
      ]
    },
    {
      "cell_type": "code",
      "metadata": {
        "id": "j2EsVBxPIOnU",
        "colab": {
          "base_uri": "https://localhost:8080/"
        },
        "outputId": "ac393152-a9e9-405b-cacc-93cb49693cfa"
      },
      "source": [
        "resp = list(filter(lambda n:n%2==0, lista))\n",
        "print(\"Los numeros pares de la lista \", lista, \" son: \", resp)"
      ],
      "execution_count": null,
      "outputs": [
        {
          "output_type": "stream",
          "text": [
            "Los numeros pares de la lista  [1, 2, 3, 5, 8, 7, 9, 12, 11, 2]  son:  [2, 8, 12, 2]\n"
          ],
          "name": "stdout"
        }
      ]
    },
    {
      "cell_type": "code",
      "metadata": {
        "id": "4o8cSg1_I02H",
        "colab": {
          "base_uri": "https://localhost:8080/"
        },
        "outputId": "aec48c81-1bbc-47c5-d50c-b2e5a4fed4fe"
      },
      "source": [
        "resp = list(filter(lambda n:n%2, lista)) #True, False, 1/2 = 0.5->1->True, 2/2=0 -> False\n",
        "print(\"Los numeros impares de la lista \", lista, \" son \", resp)"
      ],
      "execution_count": null,
      "outputs": [
        {
          "output_type": "stream",
          "text": [
            "Los numeros impares de la lista  [1, 2, 3, 5, 8, 7, 9, 12, 11, 2]  son  [1, 3, 5, 7, 9, 11]\n"
          ],
          "name": "stdout"
        }
      ]
    },
    {
      "cell_type": "code",
      "metadata": {
        "id": "UPLopWZNMsLm",
        "colab": {
          "base_uri": "https://localhost:8080/"
        },
        "outputId": "15ffebc2-a9bd-4fbd-dd16-d93b0119a2ed"
      },
      "source": [
        "from functools import reduce\n",
        "resp = reduce(lambda x,y:x+y, lista)\n",
        "print(\"La suma de la lista \", lista, \" es: \", resp, \" la media es: \", resp/len(lista))"
      ],
      "execution_count": null,
      "outputs": [
        {
          "output_type": "stream",
          "text": [
            "La suma de la lista  [1, 2, 3, 4]  es:  10  la media es:  2.5\n"
          ],
          "name": "stdout"
        }
      ]
    },
    {
      "cell_type": "code",
      "metadata": {
        "id": "n-RfeOEZG2XO",
        "colab": {
          "base_uri": "https://localhost:8080/"
        },
        "outputId": "4ff8d27c-3897-44b6-afc7-0bd491f3008a"
      },
      "source": [
        "tupla = (1,2,5) #una tupla es un conjunto de datos inmutable\n",
        "print( tupla, tupla[0], \"Rango: indice inicial: longitud: \", tupla[1:3], \"; cuantas veces aparece el 2: \",tupla.count(2), \"; donde (indice) aparece el 5: \", tupla.index(5)  )\n",
        "print( list(map(conversion, tupla)) )"
      ],
      "execution_count": null,
      "outputs": [
        {
          "output_type": "stream",
          "text": [
            "(1, 2, 5) 1 Rango: indice inicial: longitud:  (2, 5) ; cuantas veces aparece el 2:  1 ; donde (indice) aparece el 5:  2\n",
            "[-17.22222222222222, -16.666666666666668, -15.0]\n"
          ],
          "name": "stdout"
        }
      ]
    },
    {
      "cell_type": "code",
      "metadata": {
        "id": "ymiAp6HaO53Z",
        "colab": {
          "base_uri": "https://localhost:8080/"
        },
        "outputId": "b825a763-c27b-415b-ea67-621e156f9e52"
      },
      "source": [
        "persona = (\"USIS018804\", \"Luis Hernandez\", \"Usulutan\", \"2222-2222\", \"luishernandez@ugb.edu.sv\", 2004, 2.5)\n",
        "print( persona )"
      ],
      "execution_count": null,
      "outputs": [
        {
          "output_type": "stream",
          "text": [
            "('USIS018804', 'Luis Hernandez', 'Usulutan', '2222-2222', 'luishernandez@ugb.edu.sv', 2004, 2.5)\n"
          ],
          "name": "stdout"
        }
      ]
    },
    {
      "cell_type": "code",
      "metadata": {
        "id": "qEUPLFiQP1M4",
        "colab": {
          "base_uri": "https://localhost:8080/"
        },
        "outputId": "617ee9ca-92e0-49e3-f904-87c9bae3ccf8"
      },
      "source": [
        "nombre = \"Luis Hernandez\"\n",
        "print( nombre[0:4], nombre.count(\"e\") )"
      ],
      "execution_count": null,
      "outputs": [
        {
          "output_type": "stream",
          "text": [
            "Luis 2\n"
          ],
          "name": "stdout"
        }
      ]
    },
    {
      "cell_type": "code",
      "metadata": {
        "id": "_S-X8SEiQtSY",
        "colab": {
          "base_uri": "https://localhost:8080/"
        },
        "outputId": "cc5c08d8-d989-4db3-bd9a-f3f46ac2bc0a"
      },
      "source": [
        "name = [\"L\", \"u\", \"i\", \"s\", \" \", \"H\", \"e\", \"r\", \"n\",\"a\",\"n\",\"d\",\"e\",\"z\"]\n",
        "print( name, name[0:4], name.count(\"e\"), name.index(\"e\") )"
      ],
      "execution_count": null,
      "outputs": [
        {
          "output_type": "stream",
          "text": [
            "['L', 'u', 'i', 's', ' ', 'H', 'e', 'r', 'n', 'a', 'n', 'd', 'e', 'z'] ['L', 'u', 'i', 's'] 2 6\n"
          ],
          "name": "stdout"
        }
      ]
    },
    {
      "cell_type": "code",
      "metadata": {
        "id": "AnD_uxUaRjq7",
        "colab": {
          "base_uri": "https://localhost:8080/"
        },
        "outputId": "b71a20ea-6c07-42be-fb88-f0780ce22c43"
      },
      "source": [
        "person = [\"USIS018804\", \"Luis Hernandez\", \"Direccion: Usulutan\", \"2222-2222\", \"luishernandez@ugb.edu.sv\", 2004, 2.5]\n",
        "print(person)\n",
        "#person[6] = 9.1\n",
        "person.insert(2, \"Depto: Usulutan\") #inserta una valor en el indice 2\n",
        "person.append(\"Python\")# inserta un valor al final\n",
        "#person[6] = 9.1\n",
        "person[ person.index(2.5) ] = 9.1\n",
        "lenguaje = person.pop() #devuelve y borra el ultimo valor\n",
        "print(person, lenguaje)"
      ],
      "execution_count": null,
      "outputs": [
        {
          "output_type": "stream",
          "text": [
            "['USIS018804', 'Luis Hernandez', 'Direccion: Usulutan', '2222-2222', 'luishernandez@ugb.edu.sv', 2004, 2.5]\n",
            "['USIS018804', 'Luis Hernandez', 'Depto: Usulutan', 'Direccion: Usulutan', '2222-2222', 'luishernandez@ugb.edu.sv', 2004, 9.1] Python\n"
          ],
          "name": "stdout"
        }
      ]
    },
    {
      "cell_type": "code",
      "metadata": {
        "id": "klZ-AgTCU9Gv",
        "colab": {
          "base_uri": "https://localhost:8080/"
        },
        "outputId": "81fabe09-30bc-4781-d12d-7fd09afcb6ba"
      },
      "source": [
        "numEnteros = [1,5,2,8,7]\n",
        "numOrdenados = sorted(numEnteros, reverse=True)\n",
        "numReverse = list(reversed(numEnteros))\n",
        "print(\"Lista desordenada: \", numEnteros, \"Lista Ordenada: \", numOrdenados, \"Numeros al reves\", numReverse )"
      ],
      "execution_count": null,
      "outputs": [
        {
          "output_type": "stream",
          "text": [
            "Lista desordenada:  [1, 5, 2, 8, 7] Lista Ordenada:  [8, 7, 5, 2, 1] Numeros al reves [7, 8, 2, 5, 1]\n"
          ],
          "name": "stdout"
        }
      ]
    },
    {
      "cell_type": "code",
      "metadata": {
        "id": "343mSyF-_706",
        "colab": {
          "base_uri": "https://localhost:8080/"
        },
        "outputId": "de5927c2-31f3-4ca6-e937-e28a80361c01"
      },
      "source": [
        "me = [\"USIS018804\",\"Luis Hernandez\",\"Usulutan\",503, \"2222-2222\",\"luishernandez@ugb.edu.sv\",[\"Progra I\", \"Progra II\", [5,8,9,2], \"Progra III\"] ]\n",
        "print( me[0][0:4], me[6][2][2], me[6][2][0] )"
      ],
      "execution_count": null,
      "outputs": [
        {
          "output_type": "stream",
          "text": [
            "USIS 9 5\n"
          ],
          "name": "stdout"
        }
      ]
    },
    {
      "cell_type": "code",
      "metadata": {
        "id": "iVsG4JEwCkST",
        "colab": {
          "base_uri": "https://localhost:8080/"
        },
        "outputId": "856451d5-8e9f-4426-8d34-104f7bf9d0b1"
      },
      "source": [
        "matriz = [\n",
        "          [1,2,3],\n",
        "          [8,7,6],\n",
        "          [7,2,5]\n",
        "]\n",
        "print( matriz )"
      ],
      "execution_count": null,
      "outputs": [
        {
          "output_type": "stream",
          "text": [
            "[[1, 2, 3], [8, 7, 6], [7, 2, 5]]\n"
          ],
          "name": "stdout"
        }
      ]
    },
    {
      "cell_type": "code",
      "metadata": {
        "id": "Oj1el3prC29V",
        "colab": {
          "base_uri": "https://localhost:8080/"
        },
        "outputId": "7fb86590-e8aa-436e-91b3-a0cb68f68776"
      },
      "source": [
        "matriz = [\n",
        "          [1,5,6],    #0\n",
        "          [2,4],      #1\n",
        "          [8,7,9],    #2\n",
        "          [7,0],      #3\n",
        "          [5,8,9.5,7],#4\n",
        "          7,          #5\n",
        "          [6,         #6\n",
        "           [1,8,9],5],\n",
        "          7\n",
        "]\n",
        "print( matriz )"
      ],
      "execution_count": null,
      "outputs": [
        {
          "output_type": "stream",
          "text": [
            "[[1, 5, 6], [2, 4], [8, 7, 9], [7, 0], [5, 8, 9.5, 7], 7, [6, [1, 8, 9], 5], 7]\n"
          ],
          "name": "stdout"
        }
      ]
    },
    {
      "cell_type": "code",
      "metadata": {
        "id": "WBNUM0BZEu0D",
        "colab": {
          "base_uri": "https://localhost:8080/"
        },
        "outputId": "fdb8362e-ac44-4d1c-ff31-bb7916ac5915"
      },
      "source": [
        "lenguajes = {\"PrograI\":\"VB\",\"PrograII\":\"JAVA\",\"PrograIII\":\"Python\"}\n",
        "print(lenguajes[\"PrograI\"])"
      ],
      "execution_count": null,
      "outputs": [
        {
          "output_type": "stream",
          "text": [
            "VB\n"
          ],
          "name": "stdout"
        }
      ]
    },
    {
      "cell_type": "code",
      "metadata": {
        "id": "YvCSOLx0FsQz",
        "colab": {
          "base_uri": "https://localhost:8080/"
        },
        "outputId": "2e2ceb75-9722-4a96-dd76-7c9f90a96fe6"
      },
      "source": [
        "mi = {\n",
        "    \"codigo\":\"USIS018804\",\n",
        "    \"nombre\":\"Luis Hernandez\",\n",
        "    \"direccion\":{\n",
        "        \"pais\":{\n",
        "            \"codigo\":503,\n",
        "            \"nombre\":\"El Salvador\",\n",
        "            \"codigoiso\":\"sv\",\n",
        "            \"continente\":{\n",
        "                \"nombre\":\"C.A\"\n",
        "            }\n",
        "        },\n",
        "        \"departamento\":\"Usulutan\",\n",
        "        \"municipio\":\"Santa Maria\",\n",
        "        \"detalle\":\"3Av. Norte #5, Casa #5\"\n",
        "    },\n",
        "    \"tels\":{\n",
        "        \"oficina\":\"2645-4545\",\n",
        "        \"casa\":\"2615-7878\",\n",
        "        \"celular\":\"7080-5020\"\n",
        "    }\n",
        "}\n",
        "print( mi[\"codigo\"], mi[\"nombre\"], mi[\"tels\"], mi[\"direccion\"][\"pais\"][\"nombre\"], mi[\"direccion\"][\"pais\"][\"continente\"][\"nombre\"], mi[\"direccion\"][\"departamento\"] )"
      ],
      "execution_count": null,
      "outputs": [
        {
          "output_type": "stream",
          "text": [
            "USIS018804 Luis Hernandez {'oficina': '2645-4545', 'casa': '2615-7878', 'celular': '7080-5020'} El Salvador C.A Usulutan\n"
          ],
          "name": "stdout"
        }
      ]
    },
    {
      "cell_type": "code",
      "metadata": {
        "id": "uaL42QNTI5LK",
        "colab": {
          "base_uri": "https://localhost:8080/"
        },
        "outputId": "22e5c77d-0475-4639-abd5-262a3fb7e246"
      },
      "source": [
        "mi.clear()\n",
        "print( mi )"
      ],
      "execution_count": null,
      "outputs": [
        {
          "output_type": "stream",
          "text": [
            "{}\n"
          ],
          "name": "stdout"
        }
      ]
    },
    {
      "cell_type": "code",
      "metadata": {
        "id": "a1elMl_wJLxK",
        "colab": {
          "base_uri": "https://localhost:8080/"
        },
        "outputId": "6ff74149-64c6-4fb4-a1a8-70c74fba1507"
      },
      "source": [
        "copia = mi.copy()\n",
        "print( copia )"
      ],
      "execution_count": null,
      "outputs": [
        {
          "output_type": "stream",
          "text": [
            "{'codigo': 'USIS018804', 'nombre': 'Luis Hernandez', 'direccion': {'pais': {'codigo': 503, 'nombre': 'El Salvador', 'codigoiso': 'sv', 'continente': {'nombre': 'C.A'}}, 'departamento': 'Usulutan', 'municipio': 'Santa Maria', 'detalle': '3Av. Norte #5, Casa #5'}, 'tels': {'oficina': '2645-4545', 'casa': '2615-7878', 'celular': '7080-5020'}}\n"
          ],
          "name": "stdout"
        }
      ]
    },
    {
      "cell_type": "code",
      "metadata": {
        "id": "NsPn51umJonI",
        "colab": {
          "base_uri": "https://localhost:8080/"
        },
        "outputId": "bc8339d3-22d8-4bdc-9c74-cd7180617d69"
      },
      "source": [
        "pais = copia.get(\"direccion\")[\"pais\"][\"nombre\"]\n",
        "print( pais )\n",
        "\n",
        "nombre = mi.get(\"direccion\").get(\"pais\").get(\"codigo\")\n",
        "\n",
        "esqueleto = dict.fromkeys(mi,\"\")\n",
        "\n",
        "print( nombre, esqueleto ) #has_key fue removido de python 3 en adelante..."
      ],
      "execution_count": null,
      "outputs": [
        {
          "output_type": "stream",
          "text": [
            "El Salvador\n",
            "503 {'codigo': '', 'nombre': '', 'direccion': '', 'tels': ''}\n"
          ],
          "name": "stdout"
        }
      ]
    },
    {
      "cell_type": "code",
      "metadata": {
        "id": "iKhi7wcMOI0O",
        "colab": {
          "base_uri": "https://localhost:8080/"
        },
        "outputId": "ba99348a-de12-45b3-c666-607be9357dd7"
      },
      "source": [
        "items = list(mi.items())\n",
        "print( items )"
      ],
      "execution_count": null,
      "outputs": [
        {
          "output_type": "stream",
          "text": [
            "[('codigo', 'USIS018804'), ('nombre', 'Luis Hernandez'), ('direccion', {'pais': {'codigo': 503, 'nombre': 'El Salvador', 'codigoiso': 'sv', 'continente': {'nombre': 'C.A'}}, 'departamento': 'Usulutan', 'municipio': 'Santa Maria', 'detalle': '3Av. Norte #5, Casa #5'}), ('tels', {'oficina': '2645-4545', 'casa': '2615-7878', 'celular': '7080-5020'})]\n"
          ],
          "name": "stdout"
        }
      ]
    },
    {
      "cell_type": "code",
      "metadata": {
        "id": "CXX-AnLXOqvi"
      },
      "source": [
        "#itervalues = mi.itervalues() -> Fue eliminado de Python 3\n",
        "#print( itervalues )\n"
      ],
      "execution_count": null,
      "outputs": []
    },
    {
      "cell_type": "code",
      "metadata": {
        "id": "daiOljmVPFCU",
        "colab": {
          "base_uri": "https://localhost:8080/"
        },
        "outputId": "535f0ccc-b69c-49b1-c97f-b9e9880b51a1"
      },
      "source": [
        "claves = list(mi.keys())\n",
        "print( claves, claves[0] )"
      ],
      "execution_count": null,
      "outputs": [
        {
          "output_type": "stream",
          "text": [
            "['codigo', 'nombre', 'direccion', 'tels'] codigo\n"
          ],
          "name": "stdout"
        }
      ]
    },
    {
      "cell_type": "code",
      "metadata": {
        "id": "-AWI9pTZVc8p",
        "colab": {
          "base_uri": "https://localhost:8080/"
        },
        "outputId": "a3153d5b-5aff-46e3-a308-b7552e6e2598"
      },
      "source": [
        "edad = int(input(\"Edad: \"))\n",
        "if edad<2:\n",
        "  print(\"Eres un bebe.\")\n",
        "elif edad<12:\n",
        "  print(\"Eres un niño\")\n",
        "elif edad<18:\n",
        "  print(\"Eres un adolescente\")\n",
        "elif edad<=55:\n",
        "  print(\"Eres joven\")\n",
        "elif edad<=65:\n",
        "  print(\"Eres adulto, un señor\")\n",
        "elif edad<=80:\n",
        "  print(\"Eres un adulto mayor\")\n",
        "elif edad<130:\n",
        "  print(\"Larga vidad\")\n",
        "else:\n",
        "  print(\"Error en la edad\")"
      ],
      "execution_count": null,
      "outputs": [
        {
          "output_type": "stream",
          "text": [
            "Edad: 17\n",
            "Eres un adolescente\n"
          ],
          "name": "stdout"
        }
      ]
    },
    {
      "cell_type": "code",
      "metadata": {
        "id": "1MMovrwpZTds",
        "colab": {
          "base_uri": "https://localhost:8080/"
        },
        "outputId": "cc89fd26-0a68-450a-9fe6-a9c6e13b6bc8"
      },
      "source": [
        "n = int(input(\"Tabla: \"))\n",
        "i=1\n",
        "while i<=10:\n",
        "  print(n,\"X\",i,\"=\",n*i)\n",
        "  i+=1\n"
      ],
      "execution_count": null,
      "outputs": [
        {
          "output_type": "stream",
          "text": [
            "Tabla: 9\n",
            "9 X 1 = 9\n",
            "9 X 2 = 18\n",
            "9 X 3 = 27\n",
            "9 X 4 = 36\n",
            "9 X 5 = 45\n",
            "9 X 6 = 54\n",
            "9 X 7 = 63\n",
            "9 X 8 = 72\n",
            "9 X 9 = 81\n",
            "9 X 10 = 90\n"
          ],
          "name": "stdout"
        }
      ]
    },
    {
      "cell_type": "markdown",
      "metadata": {
        "id": "onQPzbVlMxA4"
      },
      "source": [
        "Calcular sobre el sueldo las deducciones de ley isss (3%), afp 6.25%, isr (tabla) e imprima el sueldo neto y total deducciones"
      ]
    },
    {
      "cell_type": "code",
      "metadata": {
        "id": "jtb_E_KmMv3F",
        "colab": {
          "base_uri": "https://localhost:8080/"
        },
        "outputId": "666afd85-eb2c-4ba9-e603-4ea2a76e6719"
      },
      "source": [
        "sueldo = float(input(\"Sueldo: \"))\n",
        "isss = sueldo*0.03\n",
        "afp = sueldo*0.0625\n",
        "sueldoNeto = sueldo - (isss + afp)\n",
        "\n",
        "tablaIsr = [\n",
        "            [0.01,   472.0,   0,   0    ],\n",
        "            [472.01, 895.24,  0.1, 17.67],\n",
        "            [895.25, 2038.10, 0.2, 60   ],\n",
        "            [2038.11, 99999 , 0.3, 288.57]\n",
        "]\n",
        "isr = 0\n",
        "for tramo in tablaIsr:\n",
        "  if sueldoNeto>=tramo[0] and sueldo<=tramo[1]:\n",
        "    isr = (sueldoNeto - tramo[0])*tramo[2] + tramo[3]\n",
        "sueldoNeto -= isr\n",
        "print(sueldo, \"Deducciones: \", (isss + afp + isr), \" Sueldo Neto: \", sueldoNeto)"
      ],
      "execution_count": null,
      "outputs": [
        {
          "output_type": "stream",
          "text": [
            "Sueldo: 350\n",
            "350.0 Deducciones:  32.375  Sueldo Neto:  317.625\n"
          ],
          "name": "stdout"
        }
      ]
    },
    {
      "cell_type": "markdown",
      "metadata": {
        "id": "laEI0sRVV_Yf"
      },
      "source": [
        "Conversores:\n",
        "1. Monedas\n",
        "  Dolar\n",
        "  Euro\n",
        "  Lempiras\n",
        "  Cordobas\n",
        "  Quetzal\n",
        "  Colon SV\n",
        "  Colon CR"
      ]
    },
    {
      "cell_type": "code",
      "metadata": {
        "id": "CWEcNF08V-YI",
        "colab": {
          "base_uri": "https://localhost:8080/"
        },
        "outputId": "72fc8aae-3b1c-48bd-bf0e-bbac85b90b59"
      },
      "source": [
        "valores = [\n",
        "           [],\n",
        "           [0, 1, 0.85, 23.8, 35.11, 7.74, 8.75, 621.61], #monedas\n",
        "           [],                                         #Longitud\n",
        "           [],                                         #Masa\n",
        "]\n",
        "etiquetas = [\n",
        "           [],\n",
        "           [\"1. Dolar\", \"2. Euro\", \"3. Lempira\",\"4. Cordobas\", \"5. Quetzalez\", \"6. Colon SV\", \"7. Colon CR\"],\n",
        "           []\n",
        "]\n",
        "def convertir(conversor, de, a, cantidad):\n",
        "  return valores[conversor][a]/valores[conversor][de] * cantidad\n",
        "\n",
        "print(\"*** MENU ***\")\n",
        "print(\"* 1. Monedas\")\n",
        "print(\"* 2. Longitud\")\n",
        "print(\"* 3. Masa\")\n",
        "conversor = int(input(\"Conversor: \"))\n",
        "\n",
        "print( etiquetas[conversor] )\n",
        "\n",
        "de = int(input(\"DE: \"))\n",
        "a = int(input(\"A: \"))\n",
        "cantidad = float(input(\"Cant: \"))\n",
        "\n",
        "print(\"Respuesta: \", convertir(conversor, de, a, cantidad) )\n",
        "\n"
      ],
      "execution_count": null,
      "outputs": [
        {
          "output_type": "stream",
          "text": [
            "*** MENU ***\n",
            "* 1. Monedas\n",
            "* 2. Longitud\n",
            "* 3. Masa\n",
            "Conversor: 1\n",
            "['1. Dolar', '2. Euro', '3. Lempira', '4. Cordobas', '5. Quetzalez', '6. Colon SV', '7. Colon CR']\n",
            "DE: 1\n",
            "A: 6\n",
            "Cant: 1\n",
            "Respuesta:  8.75\n"
          ],
          "name": "stdout"
        }
      ]
    },
    {
      "cell_type": "markdown",
      "metadata": {
        "id": "XgWl4cjoJXQE"
      },
      "source": [
        "Tabla de acumulacion de MESES."
      ]
    },
    {
      "cell_type": "code",
      "metadata": {
        "id": "n9zNkMptJfjJ",
        "colab": {
          "base_uri": "https://localhost:8080/"
        },
        "outputId": "e36017d8-5c94-4b76-b610-9c4e7a751e67"
      },
      "source": [
        "nmeses = int(input(\"MESES: \"))\n",
        "i=0\n",
        "acumulacion = 0\n",
        "while i<=nmeses:\n",
        "  acumulacion += i\n",
        "  i+=1\n",
        "print(\"ACUMULACION \", acumulacion)\n"
      ],
      "execution_count": null,
      "outputs": [
        {
          "output_type": "stream",
          "name": "stdout",
          "text": [
            "MESES: 150\n",
            "ACUMULACION  11325\n"
          ]
        }
      ]
    },
    {
      "cell_type": "code",
      "metadata": {
        "id": "ZSQRd9esKl0s",
        "colab": {
          "base_uri": "https://localhost:8080/"
        },
        "outputId": "2c241b4a-0468-4158-870a-02ded9aa97db"
      },
      "source": [
        "nmeses = int(input(\"Dime los Meses Acumulado: \"))\n",
        "acumulado = nmeses * (nmeses/2 + 0.5)\n",
        "print(\"ACUMULADO: \", acumulado)"
      ],
      "execution_count": null,
      "outputs": [
        {
          "output_type": "stream",
          "name": "stdout",
          "text": [
            "Dime los Meses Acumulado: 150\n",
            "ACUMULADO:  11325.0\n"
          ]
        }
      ]
    },
    {
      "cell_type": "code",
      "metadata": {
        "id": "kSrydg94PlBv",
        "colab": {
          "base_uri": "https://localhost:8080/"
        },
        "outputId": "7ca34c39-e737-474a-863e-e3d6cf4ed774"
      },
      "source": [
        "n = int(input(\"MESES: \"))\n",
        "acumulado = 0.5*n**2 + 0.5 * n #Flor..\n",
        "print(\"ACUMULADO: \", acumulado)"
      ],
      "execution_count": null,
      "outputs": [
        {
          "output_type": "stream",
          "name": "stdout",
          "text": [
            "MESES: 150\n",
            "ACUMULADO:  11325.0\n"
          ]
        }
      ]
    },
    {
      "cell_type": "code",
      "metadata": {
        "id": "I50_7y4eQvDR",
        "colab": {
          "base_uri": "https://localhost:8080/"
        },
        "outputId": "b1ff2b05-adf4-485c-df68-d5a626e142e1"
      },
      "source": [
        "n = int(input(\"MESES: \"))\n",
        "acumulado = n*(n+1)/2 #Kevin\n",
        "print(\"ACUMULADO: \", acumulado)"
      ],
      "execution_count": null,
      "outputs": [
        {
          "output_type": "stream",
          "name": "stdout",
          "text": [
            "MESES: 150\n",
            "ACUMULADO:  11325.0\n"
          ]
        }
      ]
    },
    {
      "cell_type": "code",
      "metadata": {
        "id": "_pKPkD9MiUx9",
        "colab": {
          "base_uri": "https://localhost:8080/"
        },
        "outputId": "c0935cbf-a970-4d80-925a-18a80c2031f9"
      },
      "source": [
        "import pandas as pd\n",
        "leguajes = pd.Series([\n",
        "                      \"C#\",\n",
        "                      \"VB\",\n",
        "                      \"PHP\",\n",
        "                      \"HTML\",\n",
        "                      \"JS\",\n",
        "                      \"CSS\",\n",
        "                      \"JAVA\",\n",
        "                      \"XML\",\n",
        "                      \"Python\"],\n",
        "                     index=[2,1,4,5,6,9,3,8,10])\n",
        "print(leguajes, leguajes[2])\n",
        "\n",
        "diccionarioLenguajes = {\n",
        "    2:\"C#\",\n",
        "    1:\"VB\",\n",
        "    4:\"PHP\",\n",
        "    5:\"HTML\",\n",
        "    6:\"JS\",\n",
        "    9:\"CSS\",\n",
        "    3:\"JAVA\",\n",
        "    8:\"XML\",\n",
        "    10:\"Python\"\n",
        "}\n",
        "pdLenguajes = pd.Series(diccionarioLenguajes)\n",
        "print(pdLenguajes)\n",
        "\n",
        "for i in range(30,2000):\n",
        "  pdLenguajes[i] = \"Lenguaje Favorito \"+ str(i)\n",
        "print(pdLenguajes)"
      ],
      "execution_count": null,
      "outputs": [
        {
          "output_type": "stream",
          "name": "stdout",
          "text": [
            "2         C#\n",
            "1         VB\n",
            "4        PHP\n",
            "5       HTML\n",
            "6         JS\n",
            "9        CSS\n",
            "3       JAVA\n",
            "8        XML\n",
            "10    Python\n",
            "dtype: object C#\n",
            "2         C#\n",
            "1         VB\n",
            "4        PHP\n",
            "5       HTML\n",
            "6         JS\n",
            "9        CSS\n",
            "3       JAVA\n",
            "8        XML\n",
            "10    Python\n",
            "dtype: object\n",
            "2                           C#\n",
            "1                           VB\n",
            "4                          PHP\n",
            "5                         HTML\n",
            "6                           JS\n",
            "                 ...          \n",
            "1995    Lenguaje Favorito 1995\n",
            "1996    Lenguaje Favorito 1996\n",
            "1997    Lenguaje Favorito 1997\n",
            "1998    Lenguaje Favorito 1998\n",
            "1999    Lenguaje Favorito 1999\n",
            "Length: 1979, dtype: object\n"
          ]
        }
      ]
    },
    {
      "cell_type": "code",
      "metadata": {
        "id": "1DOUxi6riaIw",
        "colab": {
          "base_uri": "https://localhost:8080/",
          "height": 483
        },
        "outputId": "f23a4024-957a-4419-e77b-5c10616aced7"
      },
      "source": [
        "import pandas as pd\n",
        "import matplotlib.pyplot as plt\n",
        "\n",
        "archivo = pd.read_csv(\"/content/notas.csv\", sep=\";\", encoding=\"utf-8\")\n",
        "#print(archivo, archivo[\"notas\"])\n",
        "\n",
        "proceso = pd.crosstab(index=archivo[\"notas\"],columns=\"frecuencia\")\n",
        "#print(proceso)\n",
        "\n",
        "sobresalientes = proceso.loc[proceso.index>=6][\"frecuencia\"]\n",
        "print(sobresalientes)\n",
        "plt.pie(sobresalientes, labels=sobresalientes.index)\n",
        "plt.xlabel(\"Estudiantes que pasaron\")\n",
        "plt.show()\n",
        "\n",
        "grupoNotas = archivo.groupby([\"notas\"]).agg({\"sum\"})\n",
        "print(grupoNotas)\n",
        "grupoNotas.to_csv(\"/content/grupoNotas.csv\", sep=\";\")\n",
        "\n",
        "#plt.pie(proceso, labels=proceso.index)\n",
        "#plt.xlabel(\"Estudiantes sobresalientes\")\n",
        "#plt.show()"
      ],
      "execution_count": null,
      "outputs": [
        {
          "output_type": "stream",
          "name": "stdout",
          "text": [
            "notas\n",
            "8     4\n",
            "9     1\n",
            "10    1\n",
            "Name: frecuencia, dtype: int64\n"
          ]
        },
        {
          "output_type": "display_data",
          "data": {
            "image/png": "[encoded data removed]",
            "text/plain": [
              "<Figure size 432x288 with 1 Axes>"
            ]
          },
          "metadata": {}
        },
        {
          "output_type": "stream",
          "name": "stdout",
          "text": [
            "                   alumnos\n",
            "                       sum\n",
            "notas                     \n",
            "2                    Julio\n",
            "5          Joseabelabigail\n",
            "8      LuisJuanCarmenjulia\n",
            "9                    Pedro\n",
            "10                fernando\n"
          ]
        }
      ]
    },
    {
      "cell_type": "code",
      "metadata": {
        "colab": {
          "base_uri": "https://localhost:8080/"
        },
        "id": "MlWG-Mj5gXwJ",
        "outputId": "a1c778fd-6174-474f-834b-3cf375ee1225"
      },
      "source": [
        "import pandas as pd\n",
        "import matplotlib.pyplot as plt\n",
        "\n",
        "usuarios = pd.read_csv(\"/content/usuarios.csv\", sep=\";\")\n",
        "#print(usuarios[\"pais\"])\n",
        "\n",
        "peliculas = pd.read_csv(\"/content/peliculas.csv\", sep=\";\")\n",
        "#print(peliculas)\n",
        "\n",
        "usuario_pelicula = pd.read_csv(\"/content/usuario_peliculas.csv\", sep=\";\")\n",
        "#print(usuario_pelicula)\n",
        "\n",
        "usuarioPelicula =pd.merge( pd.merge(usuarios,usuario_pelicula), peliculas, on=\"idPelicula\")\n",
        "print(usuarioPelicula)\n"
      ],
      "execution_count": null,
      "outputs": [
        {
          "output_type": "stream",
          "name": "stdout",
          "text": [
            "   idUsuario           nombre genero_x  ...        categoria duracion genero_y\n",
            "0          1   Luis Hernandez        M  ...          comedia      120        A\n",
            "1          2       Juan Perez        M  ...           accion      120        C\n",
            "2          2       Juan Perez        M  ...  entretenimiento       90        A\n",
            "3          3      Maria Amaya        F  ...           terror      120        D\n",
            "4          4      Julia Perez        F  ...          ficcion      100        B\n",
            "5          5  Pedro Hernandez        M  ...          comedia      120        B\n",
            "6          5  Pedro Hernandez        M  ...          comedia       90        B\n",
            "7          6       Jose Perez        M  ...          romance      180        C\n",
            "\n",
            "[8 rows x 13 columns]\n"
          ]
        }
      ]
    },
    {
      "cell_type": "markdown",
      "metadata": {
        "id": "nvHD7s5Tb2Fm"
      },
      "source": [
        "USO de TENSORFLOW\n",
        "HOLA MUNDO EN TENSORFLOW"
      ]
    },
    {
      "cell_type": "code",
      "metadata": {
        "id": "OngoF7OOb1sa",
        "colab": {
          "base_uri": "https://localhost:8080/"
        },
        "outputId": "df9abaed-4933-4e9d-a79a-a0365895a0df"
      },
      "source": [
        "import tensorflow as tf\n",
        "resp = tf.add(3,8).numpy()\n",
        "print(resp)"
      ],
      "execution_count": null,
      "outputs": [
        {
          "output_type": "stream",
          "name": "stdout",
          "text": [
            "11\n"
          ]
        }
      ]
    },
    {
      "cell_type": "code",
      "metadata": {
        "id": "kv3BxqfniJgB"
      },
      "source": [
        "#importacion de librerias a utilizar\n",
        "import tensorflow as tf\n",
        "import pandas as pd\n",
        "import matplotlib.pyplot as plt\n",
        "import seaborn as sns"
      ],
      "execution_count": null,
      "outputs": []
    },
    {
      "cell_type": "code",
      "metadata": {
        "id": "S2Fu_1aoioKv",
        "colab": {
          "base_uri": "https://localhost:8080/",
          "height": 333
        },
        "outputId": "fe14a558-e5a0-45f7-812a-53e1ecd4fd11"
      },
      "source": [
        "#obtencion de los datoas de entrenamiento\n",
        "temperaturas = pd.read_csv(\"/content/dataset.csv\", sep=\";\")\n",
        "\n",
        "sns.scatterplot(temperaturas[\"celsius\"], temperaturas[\"fahrenheit\"])\n",
        "plt.show()"
      ],
      "execution_count": null,
      "outputs": [
        {
          "output_type": "stream",
          "name": "stderr",
          "text": [
            "/usr/local/lib/python3.7/dist-packages/seaborn/_decorators.py:43: FutureWarning: Pass the following variables as keyword args: x, y. From version 0.12, the only valid positional argument will be `data`, and passing other arguments without an explicit keyword will result in an error or misinterpretation.\n",
            "  FutureWarning\n"
          ]
        },
        {
          "output_type": "display_data",
          "data": {
            "image/png": "[encoded data removed]",
            "text/plain": [
              "<Figure size 432x288 with 1 Axes>"
            ]
          },
          "metadata": {
            "needs_background": "light"
          }
        }
      ]
    },
    {
      "cell_type": "code",
      "metadata": {
        "id": "7pOgh4rck-M_"
      },
      "source": [
        "#datos de entrada y salida\n",
        "celsius = temperaturas[\"celsius\"]\n",
        "fahrenheit = temperaturas['fahrenheit']"
      ],
      "execution_count": null,
      "outputs": []
    },
    {
      "cell_type": "code",
      "metadata": {
        "id": "Y3vT2tbIlXAr"
      },
      "source": [
        "#modelo de entrenamiento\n",
        "modelo = tf.keras.Sequential()\n",
        "modelo.add(tf.keras.layers.Dense(units=1, input_shape=[1]))"
      ],
      "execution_count": null,
      "outputs": []
    },
    {
      "cell_type": "markdown",
      "metadata": {
        "id": "Ey3gBQ_4mLLT"
      },
      "source": [
        ""
      ]
    },
    {
      "cell_type": "code",
      "metadata": {
        "id": "bEpto7EVmIkn"
      },
      "source": [
        "#compilar el modelo\n",
        "modelo.compile(optimizer=tf.keras.optimizers.Adam(1),loss='mean_squared_error')"
      ],
      "execution_count": null,
      "outputs": []
    },
    {
      "cell_type": "code",
      "metadata": {
        "id": "Kh0SMmJ8m8KH",
        "colab": {
          "base_uri": "https://localhost:8080/"
        },
        "outputId": "80d1db59-dc95-46f1-bad5-2dd002c16592"
      },
      "source": [
        "#entrenamiento del modelo\n",
        "epocas = modelo.fit(celsius, fahrenheit, epochs=100, verbose=0)"
      ],
      "execution_count": null,
      "outputs": [
        {
          "output_type": "stream",
          "name": "stdout",
          "text": [
            "Epoch 1/100\n",
            "1/1 [==============================] - 0s 6ms/step - loss: 155.1082\n",
            "Epoch 2/100\n",
            "1/1 [==============================] - 0s 5ms/step - loss: 190.8913\n",
            "Epoch 3/100\n",
            "1/1 [==============================] - 0s 6ms/step - loss: 214.4499\n",
            "Epoch 4/100\n",
            "1/1 [==============================] - 0s 3ms/step - loss: 201.6873\n",
            "Epoch 5/100\n",
            "1/1 [==============================] - 0s 3ms/step - loss: 159.2050\n",
            "Epoch 6/100\n",
            "1/1 [==============================] - 0s 4ms/step - loss: 114.6018\n",
            "Epoch 7/100\n",
            "1/1 [==============================] - 0s 6ms/step - loss: 93.0934\n",
            "Epoch 8/100\n",
            "1/1 [==============================] - 0s 4ms/step - loss: 99.3055\n",
            "Epoch 9/100\n",
            "1/1 [==============================] - 0s 4ms/step - loss: 116.8272\n",
            "Epoch 10/100\n",
            "1/1 [==============================] - 0s 4ms/step - loss: 123.7431\n",
            "Epoch 11/100\n",
            "1/1 [==============================] - 0s 4ms/step - loss: 110.2484\n",
            "Epoch 12/100\n",
            "1/1 [==============================] - 0s 4ms/step - loss: 84.3167\n",
            "Epoch 13/100\n",
            "1/1 [==============================] - 0s 9ms/step - loss: 62.7018\n",
            "Epoch 14/100\n",
            "1/1 [==============================] - 0s 5ms/step - loss: 56.4356\n",
            "Epoch 15/100\n",
            "1/1 [==============================] - 0s 4ms/step - loss: 62.9420\n",
            "Epoch 16/100\n",
            "1/1 [==============================] - 0s 4ms/step - loss: 70.1454\n",
            "Epoch 17/100\n",
            "1/1 [==============================] - 0s 5ms/step - loss: 67.6936\n",
            "Epoch 18/100\n",
            "1/1 [==============================] - 0s 7ms/step - loss: 55.1368\n",
            "Epoch 19/100\n",
            "1/1 [==============================] - 0s 6ms/step - loss: 40.7239\n",
            "Epoch 20/100\n",
            "1/1 [==============================] - 0s 7ms/step - loss: 33.1732\n",
            "Epoch 21/100\n",
            "1/1 [==============================] - 0s 6ms/step - loss: 34.2818\n",
            "Epoch 22/100\n",
            "1/1 [==============================] - 0s 8ms/step - loss: 38.4660\n",
            "Epoch 23/100\n",
            "1/1 [==============================] - 0s 4ms/step - loss: 38.6693\n",
            "Epoch 24/100\n",
            "1/1 [==============================] - 0s 5ms/step - loss: 32.6630\n",
            "Epoch 25/100\n",
            "1/1 [==============================] - 0s 4ms/step - loss: 24.2019\n",
            "Epoch 26/100\n",
            "1/1 [==============================] - 0s 4ms/step - loss: 18.7715\n",
            "Epoch 27/100\n",
            "1/1 [==============================] - 0s 8ms/step - loss: 18.4603\n",
            "Epoch 28/100\n",
            "1/1 [==============================] - 0s 5ms/step - loss: 20.6277\n",
            "Epoch 29/100\n",
            "1/1 [==============================] - 0s 5ms/step - loss: 21.0156\n",
            "Epoch 30/100\n",
            "1/1 [==============================] - 0s 5ms/step - loss: 17.8487\n",
            "Epoch 31/100\n",
            "1/1 [==============================] - 0s 8ms/step - loss: 13.0427\n",
            "Epoch 32/100\n",
            "1/1 [==============================] - 0s 5ms/step - loss: 9.8384\n",
            "Epoch 33/100\n",
            "1/1 [==============================] - 0s 5ms/step - loss: 9.5796\n",
            "Epoch 34/100\n",
            "1/1 [==============================] - 0s 4ms/step - loss: 10.7572\n",
            "Epoch 35/100\n",
            "1/1 [==============================] - 0s 4ms/step - loss: 10.8801\n",
            "Epoch 36/100\n",
            "1/1 [==============================] - 0s 4ms/step - loss: 8.9841\n",
            "Epoch 37/100\n",
            "1/1 [==============================] - 0s 4ms/step - loss: 6.2933\n",
            "Epoch 38/100\n",
            "1/1 [==============================] - 0s 6ms/step - loss: 4.6799\n",
            "Epoch 39/100\n",
            "1/1 [==============================] - 0s 4ms/step - loss: 4.7408\n",
            "Epoch 40/100\n",
            "1/1 [==============================] - 0s 5ms/step - loss: 5.4194\n",
            "Epoch 41/100\n",
            "1/1 [==============================] - 0s 4ms/step - loss: 5.3057\n",
            "Epoch 42/100\n",
            "1/1 [==============================] - 0s 4ms/step - loss: 4.0796\n",
            "Epoch 43/100\n",
            "1/1 [==============================] - 0s 6ms/step - loss: 2.6428\n",
            "Epoch 44/100\n",
            "1/1 [==============================] - 0s 4ms/step - loss: 2.0097\n",
            "Epoch 45/100\n",
            "1/1 [==============================] - 0s 5ms/step - loss: 2.2631\n",
            "Epoch 46/100\n",
            "1/1 [==============================] - 0s 6ms/step - loss: 2.6207\n",
            "Epoch 47/100\n",
            "1/1 [==============================] - 0s 5ms/step - loss: 2.3710\n",
            "Epoch 48/100\n",
            "1/1 [==============================] - 0s 5ms/step - loss: 1.5873\n",
            "Epoch 49/100\n",
            "1/1 [==============================] - 0s 6ms/step - loss: 0.9165\n",
            "Epoch 50/100\n",
            "1/1 [==============================] - 0s 5ms/step - loss: 0.8087\n",
            "Epoch 51/100\n",
            "1/1 [==============================] - 0s 6ms/step - loss: 1.0768\n",
            "Epoch 52/100\n",
            "1/1 [==============================] - 0s 7ms/step - loss: 1.1968\n",
            "Epoch 53/100\n",
            "1/1 [==============================] - 0s 5ms/step - loss: 0.9154\n",
            "Epoch 54/100\n",
            "1/1 [==============================] - 0s 5ms/step - loss: 0.4705\n",
            "Epoch 55/100\n",
            "1/1 [==============================] - 0s 5ms/step - loss: 0.2520\n",
            "Epoch 56/100\n",
            "1/1 [==============================] - 0s 4ms/step - loss: 0.3550\n",
            "Epoch 57/100\n",
            "1/1 [==============================] - 0s 6ms/step - loss: 0.5249\n",
            "Epoch 58/100\n",
            "1/1 [==============================] - 0s 5ms/step - loss: 0.4916\n",
            "Epoch 59/100\n",
            "1/1 [==============================] - 0s 5ms/step - loss: 0.2654\n",
            "Epoch 60/100\n",
            "1/1 [==============================] - 0s 5ms/step - loss: 0.0765\n",
            "Epoch 61/100\n",
            "1/1 [==============================] - 0s 10ms/step - loss: 0.0824\n",
            "Epoch 62/100\n",
            "1/1 [==============================] - 0s 6ms/step - loss: 0.2039\n",
            "Epoch 63/100\n",
            "1/1 [==============================] - 0s 5ms/step - loss: 0.2532\n",
            "Epoch 64/100\n",
            "1/1 [==============================] - 0s 6ms/step - loss: 0.1618\n",
            "Epoch 65/100\n",
            "1/1 [==============================] - 0s 5ms/step - loss: 0.0366\n",
            "Epoch 66/100\n",
            "1/1 [==============================] - 0s 7ms/step - loss: 0.0080\n",
            "Epoch 67/100\n",
            "1/1 [==============================] - 0s 5ms/step - loss: 0.0768\n",
            "Epoch 68/100\n",
            "1/1 [==============================] - 0s 6ms/step - loss: 0.1350\n",
            "Epoch 69/100\n",
            "1/1 [==============================] - 0s 8ms/step - loss: 0.1080\n",
            "Epoch 70/100\n",
            "1/1 [==============================] - 0s 6ms/step - loss: 0.0348\n",
            "Epoch 71/100\n",
            "1/1 [==============================] - 0s 6ms/step - loss: 0.0027\n",
            "Epoch 72/100\n",
            "1/1 [==============================] - 0s 9ms/step - loss: 0.0369\n",
            "Epoch 73/100\n",
            "1/1 [==============================] - 0s 7ms/step - loss: 0.0813\n",
            "Epoch 74/100\n",
            "1/1 [==============================] - 0s 5ms/step - loss: 0.0786\n",
            "Epoch 75/100\n",
            "1/1 [==============================] - 0s 12ms/step - loss: 0.0378\n",
            "Epoch 76/100\n",
            "1/1 [==============================] - 0s 6ms/step - loss: 0.0122\n",
            "Epoch 77/100\n",
            "1/1 [==============================] - 0s 6ms/step - loss: 0.0276\n",
            "Epoch 78/100\n",
            "1/1 [==============================] - 0s 7ms/step - loss: 0.0564\n",
            "Epoch 79/100\n",
            "1/1 [==============================] - 0s 7ms/step - loss: 0.0599\n",
            "Epoch 80/100\n",
            "1/1 [==============================] - 0s 7ms/step - loss: 0.0368\n",
            "Epoch 81/100\n",
            "1/1 [==============================] - 0s 5ms/step - loss: 0.0185\n",
            "Epoch 82/100\n",
            "1/1 [==============================] - 0s 6ms/step - loss: 0.0249\n",
            "Epoch 83/100\n",
            "1/1 [==============================] - 0s 5ms/step - loss: 0.0421\n",
            "Epoch 84/100\n",
            "1/1 [==============================] - 0s 8ms/step - loss: 0.0453\n",
            "Epoch 85/100\n",
            "1/1 [==============================] - 0s 4ms/step - loss: 0.0314\n",
            "Epoch 86/100\n",
            "1/1 [==============================] - 0s 9ms/step - loss: 0.0191\n",
            "Epoch 87/100\n",
            "1/1 [==============================] - 0s 6ms/step - loss: 0.0216\n",
            "Epoch 88/100\n",
            "1/1 [==============================] - 0s 13ms/step - loss: 0.0313\n",
            "Epoch 89/100\n",
            "1/1 [==============================] - 0s 6ms/step - loss: 0.0328\n",
            "Epoch 90/100\n",
            "1/1 [==============================] - 0s 4ms/step - loss: 0.0239\n",
            "Epoch 91/100\n",
            "1/1 [==============================] - 0s 4ms/step - loss: 0.0158\n",
            "Epoch 92/100\n",
            "1/1 [==============================] - 0s 4ms/step - loss: 0.0168\n",
            "Epoch 93/100\n",
            "1/1 [==============================] - 0s 4ms/step - loss: 0.0221\n",
            "Epoch 94/100\n",
            "1/1 [==============================] - 0s 4ms/step - loss: 0.0223\n",
            "Epoch 95/100\n",
            "1/1 [==============================] - 0s 3ms/step - loss: 0.0162\n",
            "Epoch 96/100\n",
            "1/1 [==============================] - 0s 4ms/step - loss: 0.0112\n",
            "Epoch 97/100\n",
            "1/1 [==============================] - 0s 3ms/step - loss: 0.0118\n",
            "Epoch 98/100\n",
            "1/1 [==============================] - 0s 3ms/step - loss: 0.0146\n",
            "Epoch 99/100\n",
            "1/1 [==============================] - 0s 3ms/step - loss: 0.0140\n",
            "Epoch 100/100\n",
            "1/1 [==============================] - 0s 3ms/step - loss: 0.0099\n"
          ]
        }
      ]
    },
    {
      "cell_type": "code",
      "metadata": {
        "id": "YWXBGQr7oQnH",
        "colab": {
          "base_uri": "https://localhost:8080/",
          "height": 295
        },
        "outputId": "afd84978-3832-47f8-cc2d-1c552a7ed78d"
      },
      "source": [
        "#evaluando el nivel de error del aprendizaje\n",
        "plt.plot(epocas.history[\"loss\"])\n",
        "plt.title(\"Progreso del aprendizaje\")\n",
        "plt.xlabel(\"Epocas\")\n",
        "plt.ylabel(\"Error de aprendizaje\")\n",
        "plt.legend(\"Aprendizaje\")\n",
        "plt.show()"
      ],
      "execution_count": null,
      "outputs": [
        {
          "output_type": "display_data",
          "data": {
            "image/png": "[encoded data removed]",
            "text/plain": [
              "<Figure size 432x288 with 1 Axes>"
            ]
          },
          "metadata": {
            "needs_background": "light"
          }
        }
      ]
    },
    {
      "cell_type": "code",
      "metadata": {
        "id": "TAS8l0impVNI",
        "colab": {
          "base_uri": "https://localhost:8080/"
        },
        "outputId": "9e16a5a8-29d1-45f9-c116-7335b469cb41"
      },
      "source": [
        "#haciendo predicciones con el aprendizaje automatico\n",
        "f = modelo.predict([27])\n",
        "print(f)"
      ],
      "execution_count": null,
      "outputs": [
        {
          "output_type": "stream",
          "name": "stdout",
          "text": [
            "[[80.66144]]\n"
          ]
        }
      ]
    },
    {
      "cell_type": "code",
      "metadata": {
        "id": "eW309RR5gE9M"
      },
      "source": [
        "USO de TENSORFLOW PARA CONVERTIR GRADOS FAHRENHEIT A KELVIN"
      ],
      "execution_count": null,
      "outputs": []
    },
    {
      "cell_type": "code",
      "metadata": {
        "id": "QFzSHYCPgNbx"
      },
      "source": [
        "#importando las librerias.\n",
        "import tensorflow as tf\n",
        "import pandas as pd\n",
        "import matplotlib.pyplot as plt"
      ],
      "execution_count": null,
      "outputs": []
    },
    {
      "cell_type": "code",
      "metadata": {
        "id": "lzQ9WVqwgXqJ"
      },
      "source": [
        "#leer los datos de entrenamiento\n",
        "temperaturas = pd.read_csv(\"/content/datos.csv\", sep=\";\")\n",
        "#print(temperaturas)"
      ],
      "execution_count": null,
      "outputs": []
    },
    {
      "cell_type": "code",
      "metadata": {
        "id": "hfrylyZJgomw"
      },
      "source": [
        "#separar los datos de entrada y salida\n",
        "f = temperaturas[\"fahrenheit\"]\n",
        "k = temperaturas[\"kelvin\"]"
      ],
      "execution_count": null,
      "outputs": []
    },
    {
      "cell_type": "code",
      "metadata": {
        "id": "hsrW2VeVhJOd"
      },
      "source": [
        "#creando el modelo de entrenamiento\n",
        "modelo = tf.keras.Sequential()\n",
        "modelo.add(tf.keras.layers.Dense(units=1, input_shape=[1]))"
      ],
      "execution_count": null,
      "outputs": []
    },
    {
      "cell_type": "code",
      "metadata": {
        "id": "xSWn7p9yhR1v"
      },
      "source": [
        "#compilar el modelo de entrenamiento\n",
        "modelo.compile(optimizer=tf.keras.optimizers.Adam(1),loss='mean_squared_error')"
      ],
      "execution_count": null,
      "outputs": []
    },
    {
      "cell_type": "code",
      "metadata": {
        "id": "u8QzOlNWhbM7"
      },
      "source": [
        "#entrenar el modelo de IA\n",
        "hisotiral = modelo.fit(f,k,epochs=350, verbose=0)"
      ],
      "execution_count": null,
      "outputs": []
    },
    {
      "cell_type": "code",
      "metadata": {
        "id": "RnLFlQh0htk6",
        "colab": {
          "base_uri": "https://localhost:8080/"
        },
        "outputId": "af22e193-b805-4259-a26a-d52d5502d2ae"
      },
      "source": [
        "kelvin = modelo.predict([-400.27])\n",
        "print(kelvin)"
      ],
      "execution_count": null,
      "outputs": [
        {
          "output_type": "stream",
          "name": "stdout",
          "text": [
            "[[33.000305]]\n"
          ]
        }
      ]
    },
    {
      "cell_type": "markdown",
      "metadata": {
        "id": "Nadjfx2JZvqs"
      },
      "source": [
        "ENTRENANDO UNA RED NEURONAL PARA QUE APRENDA A LEER NUMEROS DEL 0 - 9 "
      ]
    },
    {
      "cell_type": "code",
      "metadata": {
        "id": "mjV4PbE1Zt5U"
      },
      "source": [
        "#IMPORAR LAS LIBRERIAS \n",
        "import tensorflow as tf\n",
        "import matplotlib.pyplot as plt\n",
        "import numpy as np\n",
        "import math\n",
        "import tensorflow_datasets as tfds\n"
      ],
      "execution_count": 5,
      "outputs": []
    },
    {
      "cell_type": "code",
      "metadata": {
        "id": "lQH39jGCbRpo",
        "colab": {
          "base_uri": "https://localhost:8080/",
          "height": 202,
          "referenced_widgets": [
            "0243cb1cd2b647779bd6ad199dc42802",
            "c6d689f33b5f4a7fa1498f171b4d2d48",
            "cba00aca1bba41dca9f493254aff37c5",
            "6baf33393cae49ca9f2c9d0bc837940a",
            "6a04cf7fb7e441469198080dc57b475c",
            "5151535a3d334688aa479e0c79a6166f",
            "ed6922a7e3f14f44a9518ff463362117",
            "45c7705d1008426484061070ebe6b905",
            "004dad78171b4e1383c8af9864d24927",
            "3841c3c2c0ce459389d29fa96222d24f",
            "8ce87dd891e94b498c5656bd68315631"
          ]
        },
        "outputId": "d53c3828-5551-4e2f-8410-5d067780244f"
      },
      "source": [
        "#cargamos nuestro dataset en variables\n",
        "dataset, metadata = tfds.load('mnist', as_supervised=True, with_info=True)\n",
        "datos_entrenamiento, datos_prueba = dataset[\"train\"], dataset[\"test\"]\n",
        "print(datos_entrenamiento)"
      ],
      "execution_count": 6,
      "outputs": [
        {
          "output_type": "stream",
          "name": "stdout",
          "text": [
            "\u001b[1mDownloading and preparing dataset mnist/3.0.1 (download: 11.06 MiB, generated: 21.00 MiB, total: 32.06 MiB) to /root/tensorflow_datasets/mnist/3.0.1...\u001b[0m\n"
          ]
        },
        {
          "output_type": "stream",
          "name": "stderr",
          "text": [
            "WARNING:absl:Dataset mnist is hosted on GCS. It will automatically be downloaded to your\n",
            "local data directory. If you'd instead prefer to read directly from our public\n",
            "GCS bucket (recommended if you're running on GCP), you can instead pass\n",
            "`try_gcs=True` to `tfds.load` or set `data_dir=gs://tfds-data/datasets`.\n",
            "\n"
          ]
        },
        {
          "output_type": "display_data",
          "data": {
            "application/vnd.jupyter.widget-view+json": {
              "model_id": "0243cb1cd2b647779bd6ad199dc42802",
              "version_minor": 0,
              "version_major": 2
            },
            "text/plain": [
              "Dl Completed...:   0%|          | 0/4 [00:00<?, ? file/s]"
            ]
          },
          "metadata": {}
        },
        {
          "output_type": "stream",
          "name": "stdout",
          "text": [
            "\n",
            "\u001b[1mDataset mnist downloaded and prepared to /root/tensorflow_datasets/mnist/3.0.1. Subsequent calls will reuse this data.\u001b[0m\n",
            "<PrefetchDataset shapes: ((28, 28, 1), ()), types: (tf.uint8, tf.int64)>\n"
          ]
        }
      ]
    },
    {
      "cell_type": "code",
      "metadata": {
        "id": "F0QAPGe0eHMw"
      },
      "source": [
        "numeros_letras = [\"Cero\", \"Uno\", \"Dos\", \"Trew\", \"Cuatro\", \"Cinco\", \"Seis\", \"Siete\", \"Ocho\", \"Nueve\"\n",
        "]"
      ],
      "execution_count": 7,
      "outputs": []
    },
    {
      "cell_type": "code",
      "metadata": {
        "id": "3YcxWGxEehLf",
        "colab": {
          "base_uri": "https://localhost:8080/"
        },
        "outputId": "4f9db91f-1fe9-4e5a-cfd4-a5cc1bd85243"
      },
      "source": [
        "#pasar en variables los datos de entrenamiento y prueba\n",
        "numeros_ejemplo_entrenamiento = metadata.splits[\"train\"].num_examples\n",
        "numeros_ejemplo_prueba = metadata.splits[\"test\"].num_examples\n",
        "print(numeros_ejemplo_entrenamiento, numeros_ejemplo_prueba)"
      ],
      "execution_count": 8,
      "outputs": [
        {
          "output_type": "stream",
          "name": "stdout",
          "text": [
            "60000 10000\n"
          ]
        }
      ]
    },
    {
      "cell_type": "code",
      "metadata": {
        "id": "Ec18ArRtfRcn"
      },
      "source": [
        "#funcion normalizadora de los pixeles de 0 - 255 que sean de 0 - 1\n",
        "def normalizacion(images, labels):\n",
        "  images = tf.cast(images, tf.float32)\n",
        "  images /= 255\n",
        "  return images, labels"
      ],
      "execution_count": 9,
      "outputs": []
    },
    {
      "cell_type": "code",
      "metadata": {
        "id": "t01LnILZgWxj"
      },
      "source": [
        "#llamamoas la funcion normalizadora en ambos dataset\n",
        "datos_entrenamiento = datos_entrenamiento.map(normalizacion)\n",
        "datos_prueba = datos_prueba.map(normalizacion)"
      ],
      "execution_count": 10,
      "outputs": []
    },
    {
      "cell_type": "code",
      "metadata": {
        "id": "BSR1x9jqhgYS"
      },
      "source": [
        "#estruturamos nuestra red neuronal\n",
        "modelo = tf.keras.Sequential([\n",
        "        tf.keras.layers.Flatten(input_shape=(28,28,1)), #capa de entreda de 28*28 = 784 neuronas una para cada pixel\n",
        "        tf.keras.layers.Dense(64, activation=tf.nn.relu), #capa oculta con 64 neuronas, funcion de activacion relu\n",
        "        tf.keras.layers.Dense(64, activation=tf.nn.relu), #capa oculta con 64 neuronas, funcion de activacion relu\n",
        "        tf.keras.layers.Dense(10, activation=tf.nn.softmax) #capa de salida con 10 neuronas una para cada numero, \n",
        "        #funcion de activacion softmax. esta funcion es requerida para clasificacion\n",
        "])\n"
      ],
      "execution_count": 11,
      "outputs": []
    },
    {
      "cell_type": "code",
      "metadata": {
        "id": "_wcOqHTcj_LH"
      },
      "source": [
        "#Compilamos el modelo de red neuronal e indicamos las funciones a utilizar \n",
        "modelo.compile(\n",
        "    optimizer=\"adam\",\n",
        "    loss=\"sparse_categorical_crossentropy\",\n",
        "    metrics=['accuracy']\n",
        ")"
      ],
      "execution_count": 12,
      "outputs": []
    },
    {
      "cell_type": "code",
      "metadata": {
        "id": "aRKCWM2WkuoH"
      },
      "source": [
        "#Entrenamiento por lotes\n",
        "batchsize = 32\n",
        "datos_entrenamiento = datos_entrenamiento.repeat().shuffle(numeros_ejemplo_entrenamiento).batch(batchsize)\n",
        "datos_prueba = datos_prueba.repeat().shuffle(numeros_ejemplo_prueba).batch(batchsize)"
      ],
      "execution_count": 13,
      "outputs": []
    },
    {
      "cell_type": "code",
      "metadata": {
        "id": "WbX6-pg-lUC6",
        "colab": {
          "base_uri": "https://localhost:8080/"
        },
        "outputId": "91053c51-ad98-493e-a669-fc8bdaa29eb7"
      },
      "source": [
        "#entrenado nuetro modelo de datos\n",
        "modelo.fit(datos_entrenamiento, epochs=5, \n",
        "           steps_per_epoch=math.ceil(numeros_ejemplo_entrenamiento/batchsize))"
      ],
      "execution_count": 14,
      "outputs": [
        {
          "output_type": "stream",
          "name": "stdout",
          "text": [
            "Epoch 1/5\n",
            "1875/1875 [==============================] - 16s 4ms/step - loss: 0.2784 - accuracy: 0.9197\n",
            "Epoch 2/5\n",
            "1875/1875 [==============================] - 8s 4ms/step - loss: 0.1213 - accuracy: 0.9632\n",
            "Epoch 3/5\n",
            "1875/1875 [==============================] - 8s 4ms/step - loss: 0.0866 - accuracy: 0.9735\n",
            "Epoch 4/5\n",
            "1875/1875 [==============================] - 8s 4ms/step - loss: 0.0702 - accuracy: 0.9782\n",
            "Epoch 5/5\n",
            "1875/1875 [==============================] - 8s 4ms/step - loss: 0.0593 - accuracy: 0.9812\n"
          ]
        },
        {
          "output_type": "execute_result",
          "data": {
            "text/plain": [
              "<keras.callbacks.History at 0x7fb566015610>"
            ]
          },
          "metadata": {},
          "execution_count": 14
        }
      ]
    },
    {
      "cell_type": "code",
      "metadata": {
        "id": "rpHWBRl1oXkx",
        "colab": {
          "base_uri": "https://localhost:8080/"
        },
        "outputId": "d51cea2a-bc2f-44cc-d160-f61bb38acf2a"
      },
      "source": [
        "#evaluar el modelo con los datos de prueba\n",
        "test_loss, test_accuracy = modelo.evaluate(datos_prueba, steps=math.ceil(numeros_ejemplo_prueba/batchsize))\n",
        "print(\"Resultado de las pruebas\", test_loss, test_accuracy)"
      ],
      "execution_count": 15,
      "outputs": [
        {
          "output_type": "stream",
          "name": "stdout",
          "text": [
            "313/313 [==============================] - 3s 4ms/step - loss: 0.1051 - accuracy: 0.9697\n",
            "Resultado de las pruebas 0.10511225461959839 0.9697483777999878\n"
          ]
        }
      ]
    },
    {
      "cell_type": "code",
      "metadata": {
        "id": "GaDGV8JUqHHJ"
      },
      "source": [
        "#graficar la salida para evaluar los resultados\n",
        "def graficar_imagen(i, predictions_array, true_labels, images):\n",
        "  predictions_array, true_labels, img = predictions_array[i], true_labels[i], images[i]\n",
        "  plt.grid(False)\n",
        "  plt.xticks([])\n",
        "  plt.yticks([])\n",
        "  plt.imshow(img[...,0], cmap=plt.cm.binary)\n",
        "\n",
        "  predicted_label = np.argmax(predictions_array)\n",
        "  if predicted_label==true_labels:\n",
        "    color = \"blue\"\n",
        "  else:\n",
        "    color = \"red\"\n",
        "  plt.xlabel(\"Prediccion: {}\".format(numeros_letras[predicted_label]), color=color)\n",
        "  "
      ],
      "execution_count": 16,
      "outputs": []
    },
    {
      "cell_type": "code",
      "metadata": {
        "id": "v7QH7o6gpIbg"
      },
      "source": [
        "#convertir las imanes de tensores en matrices con numpy\n",
        "for imagenes_prueba, etiquetas_prueba in datos_prueba.take(1):\n",
        "  imagenes_prueba = imagenes_prueba.numpy()\n",
        "  etiquetas_prueba = etiquetas_prueba.numpy()\n",
        "  predicciones = modelo.predict(imagenes_prueba)"
      ],
      "execution_count": 17,
      "outputs": []
    },
    {
      "cell_type": "code",
      "metadata": {
        "id": "xkfj_BJTpJu2",
        "colab": {
          "base_uri": "https://localhost:8080/",
          "height": 282
        },
        "outputId": "3ad5ef3c-99f6-4f28-a51e-f43eaa5837c5"
      },
      "source": [
        "index = 31\n",
        "ima = imagenes_prueba[index][...,0]\n",
        "label = np.argmax(predicciones[index])\n",
        "\n",
        "plt.figure()\n",
        "plt.imshow(ima, cmap=plt.cm.binary)\n",
        "plt.colorbar()\n",
        "plt.grid(False)\n",
        "plt.xlabel(\"Prediccion: {}\".format(numeros_letras[label]), color=\"green\")\n",
        "plt.show()"
      ],
      "execution_count": 18,
      "outputs": [
        {
          "output_type": "display_data",
          "data": {
            "image/png": "[encoded data removed]",
            "text/plain": [
              "<Figure size 432x288 with 2 Axes>"
            ]
          },
          "metadata": {
            "needs_background": "light"
          }
        }
      ]
    },
    {
      "cell_type": "code",
      "metadata": {
        "id": "nwbpUd9-pQi0"
      },
      "source": [
        "#graficamos las matrices en imagenes con matplotlib para ver su acierto\n",
        "def graficar_valores_matrices(i, predictions_array, true_labels):\n",
        "  predictions_array, true_labels = predictions_array[i], true_labels[i]\n",
        "  plt.grid(False)\n",
        "  plt.xticks([])\n",
        "  plt.yticks([])\n",
        "  thisplot = plt.bar(range(10),predictions_array, color=\"#000000\")\n",
        "  plt.ylim([0,1])\n",
        "  predicted_label = np.argmax(predictions_array)\n",
        "\n",
        "  thisplot[predicted_label].set_color(\"red\")\n",
        "  thisplot[true_labels].set_color(\"blue\")\n"
      ],
      "execution_count": 19,
      "outputs": []
    },
    {
      "cell_type": "code",
      "metadata": {
        "id": "HtH-mzZEpUyD",
        "colab": {
          "base_uri": "https://localhost:8080/",
          "height": 588
        },
        "outputId": "56308c17-bc76-43ad-d663-1c6ea647966d"
      },
      "source": [
        "#llamamos los metodos para la graficacion de las imagenes y la grafica de barras\n",
        "numfilas = 5\n",
        "numcols = 4\n",
        "numimages = numfilas*numcols\n",
        "\n",
        "plt.figure(figsize=(2*2*numcols, 2*numfilas))\n",
        "for i in range(numimages):\n",
        "  plt.subplot(numfilas, 2*numcols, 2*i+1)\n",
        "  graficar_imagen(i, predicciones, etiquetas_prueba, imagenes_prueba)\n",
        "  plt.subplot(numfilas, 2*numcols, 2*i+2)\n",
        "  graficar_valores_matrices(i, predicciones, etiquetas_prueba)\n",
        "\n",
        "plt.show()"
      ],
      "execution_count": 20,
      "outputs": [
        {
          "output_type": "display_data",
          "data": {
            "image/png": "[encoded data removed]",
            "text/plain": [
              "<Figure size 1152x720 with 40 Axes>"
            ]
          },
          "metadata": {}
        }
      ]
    }
  ]
}